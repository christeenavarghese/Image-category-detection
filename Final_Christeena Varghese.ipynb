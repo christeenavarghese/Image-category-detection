{
 "cells": [
  {
   "cell_type": "markdown",
   "id": "7888abe1",
   "metadata": {},
   "source": [
    "# <center> ANN FINAL ASSIGNMENT WS22/23 </center>"
   ]
  },
  {
   "cell_type": "markdown",
   "id": "daf7a188",
   "metadata": {},
   "source": [
    "Name : Christeena Varghese<br>\n",
    "k number : k54784<br>\n",
    "Matriculation number: 5122716<br>\n",
    "Mail.id: christeena.varghese@study.thws.de<br>\n",
    "Submitted on: 22.01.2023    "
   ]
  },
  {
   "cell_type": "markdown",
   "id": "d18981ca",
   "metadata": {},
   "source": [
    "## Aim\n",
    "* The aim of this task is to predict the category of an image. Category ranges from 0 to 9.\n",
    "* To implement three different algorithm."
   ]
  },
  {
   "cell_type": "markdown",
   "id": "ba81b645",
   "metadata": {},
   "source": [
    "## Overview"
   ]
  },
  {
   "cell_type": "markdown",
   "id": "c6084c12",
   "metadata": {},
   "source": [
    "#### DATA set\n",
    "The test and training data consists of four sub-datasets that are randomly mixed together:<br>\n",
    "1.MNIST<br>\n",
    "2.FashionMNIST<br>\n",
    "3.permuted MNIST (one permutation)<br>\n",
    "4.permuted FashionMNIST(same permutation as permuted MNIST)\n",
    "#### Data format\n",
    "28x28 PNG files\n",
    "#### ADAM optimizer\n",
    "I evaluated the performance of all 3 models with same epochs and different optimizers (ADAM & SGD). I found that even though the execution is faster with SGD optimizer, accuracy is more with ADAM optimizer which is an extension of SGD.<br>\n",
    "#### CrossEntropy: \n",
    "Is the most commnly used loss funtion for classification problems.\n",
    "#### MLP\n",
    "* MLPs models are the most basic deep neural network.<br>\n",
    "* It is composed of a series of fully connected layers.<br>\n",
    "* Moreover it is used in classification problems.\n",
    "\n",
    "#### CNN\n",
    "* A CNN, or convolutional neural network, is a type of neural network architecture specifically designed for image and video recognition.<br> \n",
    "* CNNs use a combination of convolutional layers, pooling layers, and fully connected layers to analyze and classify visual data.<br>  \n",
    "* In a convolutional layer, the network learns a set of filters that can be applied to the input image to extract features, such as edges or textures.<br>  \n",
    "* The pooling layer then downsamples the image to reduce its dimensionality and emphasize the most important features.<br>  \n",
    "* Fully connected layers are then used to make a final prediction about the image, such as classifying it as a specific object.\n",
    "\n",
    "#### RELU\n",
    "In tanh and sigmoid activation function there is a problem of vanishng gradient descent. Which means the differenciatio value is almost near to zero( 0.000000 something). Inorder to overcome such vanidhing gradient problem ReLu. In ReLu we get the activation value as 1 or 0 (if negative it will be 0 and if positive it will be 1).\n",
    "##### Leaky ReLU\n",
    "In RelU there is chances of occuring dead neurons. That is some neurons wont get activated and the function returns zero.And so weights are not getting updated. Inorder to avoid such scenario LeakyRelu can be used. Where the function return 0.01 if negative and 1 in the othercase(including x= 0). "
   ]
  },
  {
   "cell_type": "markdown",
   "id": "739e634b",
   "metadata": {},
   "source": [
    "## Run\n",
    "* Load \"import libraries\" section and \"loading dataset\" once before all the three models and then run the respective code sections in each model."
   ]
  },
  {
   "cell_type": "markdown",
   "id": "d9117cf3",
   "metadata": {},
   "source": [
    "## Import Libraries"
   ]
  },
  {
   "cell_type": "code",
   "execution_count": 1,
   "id": "853cfcae",
   "metadata": {},
   "outputs": [],
   "source": [
    "import torch, torchvision\n",
    "from torch import nn                          # all neural network models\n",
    "from torch import optim                       # various optimization algorithms\n",
    "import torch.optim as optim    \n",
    "from torchvision.transforms import ToTensor   # convert a PIL Image or numpy.ndarray to tensor\n",
    "import torch.nn.functional as F               # activation functions\n",
    "import matplotlib.pyplot as plt               # plotting\n",
    "from torchvision import datasets, transforms\n",
    "from torch.utils.data import DataLoader       # \n",
    "import cv2                                    # image processing,\n",
    "import os                                     # to interact with the operating system\n",
    "import random                                 # for generating random numbers\n",
    "import pandas as pd\n",
    "from os import listdir                        # to list all the files in a directory"
   ]
  },
  {
   "cell_type": "markdown",
   "id": "f01059b5",
   "metadata": {},
   "source": [
    "##  Loading Dataset"
   ]
  },
  {
   "cell_type": "code",
   "execution_count": 5,
   "id": "0913c93d",
   "metadata": {},
   "outputs": [
    {
     "name": "stdout",
     "output_type": "stream",
     "text": [
      "class 0 have : 23845 Images\n",
      "class 1 have : 25483 Images\n",
      "class 2 have : 23915 Images\n",
      "class 3 have : 24261 Images\n",
      "class 4 have : 23683 Images\n",
      "class 5 have : 22841 Images\n",
      "class 6 have : 23835 Images\n",
      "class 7 have : 24529 Images\n",
      "class 8 have : 23701 Images\n",
      "class 9 have : 23897 Images\n",
      "A total of 239990 images loaded\n"
     ]
    }
   ],
   "source": [
    "'''\n",
    "Here I am loading images from a dataset which is stored on the local machine and storing them in a list called \"Images_Dataset\". \n",
    "The \"Images_Dataset\" list contains two elements, the first element is a 4D tensor with dimensions (240001,28,28,3) which will store the images loaded, and the second element is a 1D tensor with dimension (240001) which will store the labels of the images.\n",
    "\n",
    "Then I defined a list called \"classes\" which contains the labels of the images, i.e. '0', '1', '2', '3', '4', '5', '6', '7', '8', '9'. \n",
    "Initialized a variable \"images_counter\" with a value of 0, which will be used to count the total number of images loaded.\n",
    "\n",
    "Created a for loop to iterate over the \"classes\" list, and for each class, to accesses the corresponding folder on the local machine, which contains the images for that class. \n",
    "Created another for loop to iterate over the images in the folder and loads them using the cv2 library. \n",
    "The images are then converted from the BGR color format to the RGB color format using the cv2.cvtColor() function. \n",
    "The images are then converted to a Pytorch tensor using the \"torch.tensor()\" function.\n",
    "\n",
    "The index of the current image is calculated by adding the current count of the inner for loop to the global count of images loaded, and this index is used to store the image and its label in the \"Images_Dataset\" list. \n",
    "For viewing, printed the current image number and folder name to keep track of the loading process.\n",
    "\n",
    "After loading all the images of a class, the code adds the number of images retrieved from the current folder to the global images counter and then prints the number of images in the current folder. \n",
    "Finally, after loading all the images, the code prints the total number of images loaded.\n",
    "'''\n",
    "\n",
    "Images_Dataset = [torch.zeros(240001,28,28,3) , torch.zeros((240001) , dtype=torch.int64)]\n",
    "classes = ['0', '1', '2', '3', '4', '5', '6', '7', '8', '9']\n",
    "images_counter = 0                                     # Counts the total number of images loaded\n",
    "for i in classes:\n",
    "    folder = f\"C:/Users/chris/MAI/ANN/dataset/train/{i}\"\n",
    "    print(f\"loading images in  : {i} folder\")\n",
    "    index_counter = 0\n",
    "    for count, filename in enumerate(os.listdir(folder)):\n",
    "        src =f\"{folder}/{filename}\"\n",
    "        im = cv2.imread(src)                            # Load the image using Cv2\n",
    "        img = cv2.cvtColor(im, cv2.COLOR_BGR2RGB)       # Converts the image into RGB from BGR\n",
    "        image = torch.tensor(img)\n",
    "        index = images_counter + count                  # Returns how many images have been added so far (globally)\n",
    "        Images_Dataset[0][index] = image                # stores the image (feature)\n",
    "        Images_Dataset[1][index] = classes.index(i)     # Stores the Label of the image added\n",
    "        print(f\"Image number {count} of folder {i}\")\n",
    "    images_counter = images_counter + count             # adds the number of images retrieved from the previous folder(class)\n",
    "    print(f\"class {i} have : {count} Images\")\n",
    "print(\"----------------------------\")\n",
    "print(f\"A total of {images_counter} images loaded\")"
   ]
  },
  {
   "cell_type": "markdown",
   "id": "1e75999d",
   "metadata": {},
   "source": [
    "## Plotting"
   ]
  },
  {
   "cell_type": "code",
   "execution_count": 6,
   "id": "ac51b101",
   "metadata": {},
   "outputs": [
    {
     "name": "stderr",
     "output_type": "stream",
     "text": [
      "Clipping input data to the valid range for imshow with RGB data ([0..1] for floats or [0..255] for integers).\n"
     ]
    },
    {
     "data": {
      "text/plain": [
       "<matplotlib.image.AxesImage at 0x21d001f7700>"
      ]
     },
     "execution_count": 6,
     "metadata": {},
     "output_type": "execute_result"
    },
    {
     "data": {
      "image/png": "[encoded data removed]",
      "text/plain": [
       "<Figure size 432x288 with 1 Axes>"
      ]
     },
     "metadata": {
      "needs_background": "light"
     },
     "output_type": "display_data"
    }
   ],
   "source": [
    "plt.imshow(Images_Dataset[0][78956])"
   ]
  },
  {
   "cell_type": "code",
   "execution_count": 7,
   "id": "96f6fe97",
   "metadata": {},
   "outputs": [
    {
     "data": {
      "text/plain": [
       "tensor(3)"
      ]
     },
     "execution_count": 7,
     "metadata": {},
     "output_type": "execute_result"
    }
   ],
   "source": [
    "Images_Dataset[1][78956]"
   ]
  },
  {
   "cell_type": "code",
   "execution_count": 8,
   "id": "88bc6b4d",
   "metadata": {},
   "outputs": [
    {
     "data": {
      "text/plain": [
       "torch.Size([28, 28, 3])"
      ]
     },
     "execution_count": 8,
     "metadata": {},
     "output_type": "execute_result"
    }
   ],
   "source": [
    "Images_Dataset[0][0].shape"
   ]
  },
  {
   "cell_type": "markdown",
   "id": "bc827481",
   "metadata": {},
   "source": [
    "# Model 1 : MLP"
   ]
  },
  {
   "cell_type": "markdown",
   "id": "ea8535a3",
   "metadata": {},
   "source": [
    "## Build Model"
   ]
  },
  {
   "cell_type": "code",
   "execution_count": 9,
   "id": "85fe7cdd",
   "metadata": {},
   "outputs": [],
   "source": [
    "'''\n",
    "This an MLP architecture with 5 hidden layers and one output layer. \n",
    "It has 2352 (28*28*3) inputs and 10 output neurons. \n",
    "Each hidden layer has less neurons than the previous one and the output layer is fully connected to the last hidden layer. \n",
    "\n",
    "In this method, the parent class \"nn.Module\" is initialized using the \"super()\" function.\n",
    "The class then declares several attributes, which represent the layers of the neural network. \n",
    "Each layer is an instance of the \"nn.Linear\" class which is a fully connected linear layer. \n",
    "The first layer, \"layer_1\" has 2352 inputs and 512 outputs, \n",
    "the second layer \"layer_2\" has 512 inputs and 256 outputs and so on. \n",
    "The last layer \"layer_final\" has 16 inputs and 10 outputs.\n",
    "\n",
    "The class also defines a forward method which takes an input and applies it to the layers of the network in the order \n",
    "they are defined.\n",
    "Each output from the linear layers is passed through a non-linear activation function \"nn.ReLU()\" which applies \n",
    "the rectified linear unit function element-wise, this help to introduce non-linearity in the model. \n",
    "\n",
    "The final output of the forward method is the output of the last layer, \"layer_final\".\n",
    "\n",
    "'''\n",
    "\n",
    "\n",
    "class MLP(nn.Module):\n",
    "    def __init__(self):\n",
    "        super(MLP,self).__init__()\n",
    "\n",
    "        self.layer_1 = nn.Linear(2352, 512)\n",
    "        self.relu1 = nn.ReLU()\n",
    "        self.layer_2 = nn.Linear(512, 256)\n",
    "        self.relu2 = nn.ReLU()\n",
    "        self.layer_3 = nn.Linear(256, 128)\n",
    "        self.relu3 = nn.ReLU()\n",
    "        self.layer_4 = nn.Linear(128, 64)\n",
    "        self.relu4 = nn.ReLU()\n",
    "        self.layer_5 = nn.Linear(64, 16)\n",
    "        self.relu5 = nn.ReLU()\n",
    "        self.layer_final = nn.Linear(16, 10)\n",
    "\n",
    "    def forward(self, input):\n",
    "        out = self.layer_1(input)\n",
    "        out = self.relu1(out)\n",
    "        out = self.layer_2(out)\n",
    "        out = self.relu2(out)\n",
    "        out = self.layer_3(out)\n",
    "        out = self.relu3(out)\n",
    "        out = self.layer_4(out)\n",
    "        out = self.relu4(out)\n",
    "        out = self.layer_5(out)\n",
    "        out = self.relu5(out)\n",
    "        out = self.layer_final(out)\n",
    "        return out"
   ]
  },
  {
   "cell_type": "code",
   "execution_count": 10,
   "id": "036b3ac7",
   "metadata": {},
   "outputs": [],
   "source": [
    "Model = MLP()                                               # model\n",
    "Loss = nn.CrossEntropyLoss()                                # loss function\n",
    "learning_rate = 0.000001\n",
    "optimizer = optim.Adam(Model.parameters(), learning_rate)   # optimizer\n",
    "#optimizer = optim.SGD(Model.parameters(), learning_rate)   # optimizer"
   ]
  },
  {
   "cell_type": "markdown",
   "id": "999b131c",
   "metadata": {},
   "source": [
    "## Training"
   ]
  },
  {
   "cell_type": "code",
   "execution_count": 12,
   "id": "8781f482",
   "metadata": {},
   "outputs": [
    {
     "name": "stdout",
     "output_type": "stream",
     "text": [
      "[INFO]: Epoch 1 of 2\n",
      "Epoch 0 Loss 0.40431955456733704\n",
      "[INFO]: Epoch 2 of 2\n",
      "Epoch 1 Loss 0.17399942874908447\n"
     ]
    }
   ],
   "source": [
    "loss_buffer = []                                            # to store the loss values during training.\n",
    "epochs = 2\n",
    "\n",
    "entries_number = Images_Dataset[0].size(dim=0)              # returns the number of images in Images_Dataset as an Integer\n",
    "\n",
    "for epoch in range(epochs):                                 \n",
    "    print(f\"[INFO]: Epoch {epoch+1} of {epochs}\")\n",
    "    for i in range (entries_number):                        # loop over data for each epoch\n",
    "    \n",
    "        random_number = random.randint(0,239990)            # random selection: return one between 0 and 239990\n",
    "    \n",
    "        images,labels = Images_Dataset[0][random_number], Images_Dataset[1][random_number]\n",
    "        images_reshaped = torch.reshape(images,(1,2352))    # returns a reshaped tensor\n",
    "\n",
    "        #forward pass\n",
    "        predictions = Model.forward(images_reshaped)\n",
    "        _, classes = torch.max(predictions,1)\n",
    "\n",
    "        if (i % 1000 == 0):\n",
    "            print(f\"predicted Class : {classes.item()}\")    #to keep track of the training progress\n",
    "            print(f\"True Class : {labels}\")\n",
    "        if(i % 10000 == 0):\n",
    "            print(f\"Checkpoint: Currently on image {i}\")\n",
    "\n",
    "\n",
    "        new_label = torch.zeros_like(predictions)\n",
    "        new_label[0][labels] = 1 \n",
    "    \n",
    "        #Calculate loss\n",
    "        loss = Loss(predictions, new_label)\n",
    "\n",
    "        #Backward (get gradients)\n",
    "        #zero the parameter gradients\n",
    "        optimizer.zero_grad()                            \n",
    "        loss.backward()\n",
    "\n",
    "        #SGD Update Weights (adjust parameters based on the calculated gradients)\n",
    "        optimizer.step()\n",
    "\n",
    "        loss_buffer.append(loss.item())\n",
    "\n",
    "    print(f\"Epoch {epoch} Loss {loss}\")\n",
    "    "
   ]
  },
  {
   "cell_type": "markdown",
   "id": "ddb6fd92",
   "metadata": {},
   "source": [
    "## Plotting Loss"
   ]
  },
  {
   "cell_type": "code",
   "execution_count": 13,
   "id": "42e7d20e",
   "metadata": {},
   "outputs": [
    {
     "data": {
      "text/plain": [
       "[<matplotlib.lines.Line2D at 0x21d03190f40>]"
      ]
     },
     "execution_count": 13,
     "metadata": {},
     "output_type": "execute_result"
    },
    {
     "data": {
      "image/png": "[encoded data removed]",
      "text/plain": [
       "<Figure size 432x288 with 1 Axes>"
      ]
     },
     "metadata": {
      "needs_background": "light"
     },
     "output_type": "display_data"
    }
   ],
   "source": [
    "plt.plot(loss_buffer)"
   ]
  },
  {
   "cell_type": "markdown",
   "id": "4284c0e2",
   "metadata": {},
   "source": [
    "## Loading Test Data"
   ]
  },
  {
   "cell_type": "code",
   "execution_count": 14,
   "id": "4cadd98c",
   "metadata": {},
   "outputs": [
    {
     "name": "stdout",
     "output_type": "stream",
     "text": [
      "File count: 40000\n"
     ]
    }
   ],
   "source": [
    "'''\n",
    "This part will read and process image files in a directory and count the number of images.\n",
    "A \"count\"  variable is initialized with a value of 0, which will be used to keep track of the number of images processed. \n",
    "An empty list \"image_store\",is used to store the names of the images.\n",
    "Created a for loop to iterate over the files in the directory. \n",
    "For each file, it checks if the file ends with \".png\" using the \"endswith()\" method. \n",
    "If the file is an image file, it uses the \"split()\" method to split the filename into two parts, the name and the extension. \n",
    "It stores the name of the image in the \"image_store\" list, and prints the name of the image.\n",
    "\n",
    "'''\n",
    "\n",
    "\n",
    "import os\n",
    "from os import listdir\n",
    " \n",
    "# get the path/directory\n",
    "test_dataset = \"C:/Users/chris/MAI/ANN/dataset/test\"\n",
    "count = 0\n",
    "image_store = [] \n",
    "for images in os.listdir(test_dataset):\n",
    "    \n",
    "    \n",
    "    # check if the image ends with png\n",
    "    if (images.endswith(\".png\")):\n",
    "        splitter = images.split(\".\", 1)\n",
    "        splitted = splitter[0]\n",
    "        image_store.append(splitted)\n",
    " \n",
    "        #print(images)\n",
    "        count += 1\n",
    "print('File count:', count)\n",
    "\n"
   ]
  },
  {
   "cell_type": "code",
   "execution_count": 15,
   "id": "9d96e734",
   "metadata": {},
   "outputs": [
    {
     "name": "stdout",
     "output_type": "stream",
     "text": [
      "A total of 39999 images loaded\n"
     ]
    }
   ],
   "source": [
    "'''\n",
    "This code is loading images from a test dataset stored on the local machine and storing them in a list called \"test\". \n",
    "The \"test\" list contains two elements, the first element is a 4D tensor with dimensions (40001,28,28,3), will store the images loaded.\n",
    "The second element is a 1D tensor with dimension (40001) which will store the labels of the images.\n",
    "Created a for loop to iterate over the files in the test directory. \n",
    "For each file, it loads the image using the cv2 library. \n",
    "This will convert the image from the BGR color format to the RGB color format using the cv2.cvtColor() function. \n",
    "The image is then converted to a Pytorch tensor using the \"torch.tensor()\" function.\n",
    "\n",
    "'''\n",
    "loss_buffer = []\n",
    "test_dataset = \"C:/Users/chris/MAI/ANN/dataset/test\"\n",
    "\n",
    "count = 0\n",
    "test = [torch.zeros(40001,28,28,3) , torch.zeros((40001) , dtype=torch.int64)]\n",
    "image_counter_test = 0                  \n",
    "\n",
    "index_counter = 0\n",
    "for count, filename in enumerate(os.listdir(test_dataset)):\n",
    "    src =f\"{test_dataset}/{filename}\"\n",
    "    im = cv2.imread(src)                                      # Load the image using Cv2\n",
    "    img = cv2.cvtColor(im, cv2.COLOR_BGR2RGB)                 # Converts the image into RGB from BGR\n",
    "    image = torch.tensor(img)\n",
    "\n",
    "    index = image_counter_test + count                        # Returns how many images have been added so far (globally)\n",
    "    test[0][count] = image                                    # stores the image (feature)\n",
    "      \n",
    "image_counter_test = image_counter_test + count               # adds the number of images retrieved from the previous folder(class)\n",
    "  \n",
    "print(\"----------------------------\")\n",
    "print(f\"A total of {image_counter_test} images loaded\")     \n"
   ]
  },
  {
   "cell_type": "markdown",
   "id": "4b6f90ed",
   "metadata": {},
   "source": [
    "## Predicting"
   ]
  },
  {
   "cell_type": "code",
   "execution_count": 17,
   "id": "2c95b593",
   "metadata": {},
   "outputs": [],
   "source": [
    "'''\n",
    "This part is to make predictions on the test dataset. \n",
    "First it calculates number of images in the \"test\" dataset using the size() function.\n",
    "Then it assigns the result to the variable \"entries_number\".\n",
    "\n",
    "Created a for loop to iterate over the number of images in the test dataset. \n",
    "Inside this loop, an image is selected from the test dataset by using the current index of the loop.\n",
    "This will be used as an index to access the image from the \"test\" list. \n",
    "The selected image is then reshaped to (1,2352) using the reshape() function from Pytorch.\n",
    "\n",
    "The reshaped image is then passed through the model using the forward() method. \n",
    "The output is then stored in the \"predictions\" variable. \n",
    "The output tensor from the model is passed through the torch.max() function which returns the maximum value and its index.\n",
    "This index is the predicted class.\n",
    "\n",
    "The function then appends the predicted class to the list \"test_predictions\". \n",
    "\n",
    "'''\n",
    "entries_number = test[0].size(dim=0)            # returns the number of images in Images_Dataset as an Integer\n",
    "\n",
    "#for epoch in range(epochs):\n",
    "test_predictions = []\n",
    "\n",
    "for i in range (entries_number):      \n",
    "     \n",
    "    images = test[0][i]\n",
    "    images_reshaped = torch.reshape(images,(1,2352))\n",
    "\n",
    "    #forward pass\n",
    "    predictions = Model.forward(images_reshaped)\n",
    "    _, classes = torch.max(predictions,1)    \n",
    "    test_predictions.append(classes.item())\n",
    "\n",
    "    if (i % 5 == 0):\n",
    "        print(f\"predicted Class : {classes.item()}\")\n",
    "     "
   ]
  },
  {
   "cell_type": "code",
   "execution_count": 18,
   "id": "1d6c20d8",
   "metadata": {},
   "outputs": [],
   "source": [
    "print(test_predictions)"
   ]
  },
  {
   "cell_type": "markdown",
   "id": "420035a3",
   "metadata": {},
   "source": [
    "## Plotting"
   ]
  },
  {
   "cell_type": "code",
   "execution_count": 19,
   "id": "97cf72fd",
   "metadata": {},
   "outputs": [
    {
     "name": "stderr",
     "output_type": "stream",
     "text": [
      "Clipping input data to the valid range for imshow with RGB data ([0..1] for floats or [0..255] for integers).\n"
     ]
    },
    {
     "data": {
      "text/plain": [
       "<matplotlib.image.AxesImage at 0x21d035acfd0>"
      ]
     },
     "execution_count": 19,
     "metadata": {},
     "output_type": "execute_result"
    },
    {
     "data": {
      "image/png": "[encoded data removed]",
      "text/plain": [
       "<Figure size 432x288 with 1 Axes>"
      ]
     },
     "metadata": {
      "needs_background": "light"
     },
     "output_type": "display_data"
    }
   ],
   "source": [
    "plt.imshow(test[0][0])"
   ]
  },
  {
   "cell_type": "markdown",
   "id": "798ddcc8",
   "metadata": {},
   "source": [
    "## View Predictions"
   ]
  },
  {
   "cell_type": "code",
   "execution_count": 20,
   "id": "1a70234f",
   "metadata": {},
   "outputs": [],
   "source": [
    "del test_predictions[-1]\n",
    "\n",
    "\n",
    "list_i = []\n",
    "for i in range (240000, 280000):\n",
    "    list_i.append(i)\n",
    "    \n",
    "df_prediction = pd.DataFrame({'id': image_store,'Classification':test_predictions}) #'images':classes\n",
    "print(df_prediction)"
   ]
  },
  {
   "cell_type": "markdown",
   "id": "52d3a100",
   "metadata": {},
   "source": [
    "## CSV (Exporting)"
   ]
  },
  {
   "cell_type": "code",
   "execution_count": 33,
   "id": "a1580f9d",
   "metadata": {},
   "outputs": [],
   "source": [
    "df_prediction.to_csv(\"C:/Users/chris/MAI/ANN/MLP8ADAM2.csv\", index = False)"
   ]
  },
  {
   "cell_type": "markdown",
   "id": "33cad260",
   "metadata": {},
   "source": [
    "# Model 2 : CNN"
   ]
  },
  {
   "cell_type": "markdown",
   "id": "d2a174df",
   "metadata": {},
   "source": [
    "## Build Model"
   ]
  },
  {
   "cell_type": "code",
   "execution_count": 21,
   "id": "adeafd4f",
   "metadata": {},
   "outputs": [],
   "source": [
    "'''\n",
    "The CNN consists of several layers:\n",
    "\n",
    "1. Three convolutional layers: Conv2d(3, 32, kernel_size=3 , stride=1,padding=1), \n",
    "                               Conv2d(32,16 , 3), \n",
    "                               Conv2d(16,8 , 3)\n",
    "2. Three max pooling layers: MaxPool2d(2, 2), \n",
    "                             MaxPool2d(2, 2), \n",
    "                             MaxPool2d(2, 2)\n",
    "3. Two fully connected layers: Linear(32, 16), \n",
    "                               Linear(16, 10)\n",
    "The first convolutional layer takes an input of shape (3,28,28) and applies 32 filters of size (3,3) with stride 1 and padding 1. \n",
    "Then, a max pooling layer applies max pooling operation with kernel size (2,2) and stride 2. \n",
    "This will reduce the spatial dimensions of the feature maps by half.\n",
    "\n",
    "The second and the third convolutional layer applies the same process as the first layer, \n",
    "but with different number of filters. \n",
    "The number of filters decreases from 32 to 16 and finally to 8.\n",
    "\n",
    "The output from the last pooling layer is reshaped using the reshape() function\n",
    "This will be fedede into the first fully connected layer(fc1). \n",
    "The fc1 layer has 32 input features and 16 output features. \n",
    "The output is then passed through a ReLU activation function.\n",
    "\n",
    "The output of the fc1 is then passed to the fc2 layer, \n",
    "which has 16 input features and 10 output features. \n",
    "The output of the fc2 is the final output of the CNN.\n",
    "\n",
    "'''\n",
    "\n",
    "class Classifier(nn.Module):\n",
    "    def __init__(self):\n",
    "        super(Classifier, self).__init__()\n",
    "        self.conv1 = nn.Conv2d(3, 32, kernel_size=3 , stride=1,padding=1)\n",
    "        self.pool = nn.MaxPool2d(2, 2)\n",
    "\n",
    "        self.conv2 = nn.Conv2d(32,16 , 3)\n",
    "        self.pool2 = nn.MaxPool2d(2, 2)\n",
    "\n",
    "        self.conv3 = nn.Conv2d(16,8 , 3)\n",
    "        self.pool3 = nn.MaxPool2d(2, 2)\n",
    "\n",
    "        self.fc1 = nn.Linear(32, 16)\n",
    "        self.fc2 = nn.Linear(16, 10)\n",
    "\n",
    "    def forward(self, x):\n",
    "\n",
    "        x = self.conv1(x)  \n",
    "        x = F.relu(x)         \n",
    "        x = self.pool(x)    \n",
    "\n",
    "        x = self.conv2(x)\n",
    "        x = F.relu(x) \n",
    "        x = self.pool2(x) \n",
    "\n",
    "        x = self.conv3(x)\n",
    "        x = F.relu(x) \n",
    "        x = self.pool3(x) \n",
    "\n",
    "        x = x.reshape(x.shape[0], -1)   \n",
    "        x = self.fc1(x)\n",
    "        x = F.relu(x)   \n",
    "        x = self.fc2(x)                                   \n",
    "        return x\n",
    "\n",
    "Model = Classifier()\n",
    "\n",
    "Loss = nn.CrossEntropyLoss()\n",
    "learning_rate = 0.00001\n",
    "optimizer = optim.Adam(Model.parameters(), learning_rate)\n",
    "#optimizer = optim.SGD(Model.parameters(), learning_rate)"
   ]
  },
  {
   "cell_type": "markdown",
   "id": "a2f8a8f3",
   "metadata": {},
   "source": [
    "## Training"
   ]
  },
  {
   "cell_type": "code",
   "execution_count": 22,
   "id": "277e21af",
   "metadata": {},
   "outputs": [
    {
     "name": "stdout",
     "output_type": "stream",
     "text": [
      "[INFO]: Epoch 1 of 2\n",
      "Epoch 0 Loss 1.7153303623199463\n",
      "[INFO]: Epoch 2 of 2\n",
      "Epoch 1 Loss 0.0012040039291605353\n"
     ]
    }
   ],
   "source": [
    "loss_buffer = []\n",
    "epochs = 2\n",
    "\n",
    "entries_number = Images_Dataset[0].size(dim=0) # returns the number of images in Images_Dataset as an Integer\n",
    "\n",
    "for epoch in range(epochs):    \n",
    "    print(f\"[INFO]: Epoch {epoch+1} of {epochs}\")\n",
    "    for i in range (entries_number):\n",
    "        index = random.randint(0, entries_number-1)             #(instead of schuffling) randomly generates the index because we don't our model to get images that belong to one class consequatively\n",
    "        images,labels = Images_Dataset[0][index], Images_Dataset[1][index]      \n",
    "\n",
    "        #forward pass\n",
    "        input = torch.reshape(images,(1,3,28,28))\n",
    "        #print(input.shape)\n",
    "        predictions = Model.forward(input)\n",
    "        _, classes = torch.max(predictions,1)\n",
    "\n",
    "        if (i % 1000 == 0):\n",
    "            \n",
    "            print(f\"predicted Class : {classes.item()}\")\n",
    "            print(f\"True Class : {labels}\")\n",
    "        if(i % 10000 == 0):\n",
    "            print(f\"Checkpoint: Currently on image {i}\")\n",
    "\n",
    "\n",
    "        new_label = torch.zeros_like(predictions)\n",
    "        new_label[0][labels] = 1 \n",
    "\n",
    "        #Calculate loss\n",
    "        loss = Loss(predictions,new_label)\n",
    "\n",
    "        #Backward (get gradients)\n",
    "        optimizer.zero_grad()\n",
    "        loss.backward()\n",
    "\n",
    "        #SGD Update Weights\n",
    "        optimizer.step()\n",
    "\n",
    "        loss_buffer.append(loss.item())\n",
    "\n",
    "    print(f\"Epoch {epoch} Loss {loss}\")"
   ]
  },
  {
   "cell_type": "markdown",
   "id": "90bd59a3",
   "metadata": {},
   "source": [
    "## Plotting Loss"
   ]
  },
  {
   "cell_type": "code",
   "execution_count": 23,
   "id": "8627e200",
   "metadata": {},
   "outputs": [
    {
     "data": {
      "text/plain": [
       "[<matplotlib.lines.Line2D at 0x21d03582b50>]"
      ]
     },
     "execution_count": 23,
     "metadata": {},
     "output_type": "execute_result"
    },
    {
     "data": {
      "image/png": "[encoded data removed]",
      "text/plain": [
       "<Figure size 432x288 with 1 Axes>"
      ]
     },
     "metadata": {
      "needs_background": "light"
     },
     "output_type": "display_data"
    }
   ],
   "source": [
    "plt.plot(loss_buffer)"
   ]
  },
  {
   "cell_type": "markdown",
   "id": "cdd42492",
   "metadata": {},
   "source": [
    "## Loading Test Data"
   ]
  },
  {
   "cell_type": "code",
   "execution_count": 24,
   "id": "abe75f5c",
   "metadata": {},
   "outputs": [
    {
     "name": "stdout",
     "output_type": "stream",
     "text": [
      "A total of 39999 images loaded\n"
     ]
    }
   ],
   "source": [
    "loss_buffer = []\n",
    "test_dataset = \"C:/Users/chris/MAI/ANN/dataset/test\"\n",
    "\n",
    "count = 0\n",
    "test = [torch.zeros(40001,28,28,3) , torch.zeros((40001) , dtype=torch.int64)]\n",
    "image_counter_test = 0                  \n",
    "\n",
    "index_counter = 0\n",
    "for count, filename in enumerate(os.listdir(test_dataset)):\n",
    "    src =f\"{test_dataset}/{filename}\"\n",
    "    im = cv2.imread(src)                            # Load the image using Cv2\n",
    "    img = cv2.cvtColor(im, cv2.COLOR_BGR2RGB)       # Converts the image into RGB from BGR\n",
    "    image = torch.tensor(img)\n",
    "\n",
    "    index = image_counter_test + count                  # Returns how many images have been added so far (globally)\n",
    "    test[0][count] = image                # stores the image (feature)\n",
    "      \n",
    "image_counter_test = image_counter_test + count             # adds the number of images retrieved from the previous folder(class)\n",
    "  \n",
    "print(\"----------------------------\")\n",
    "print(f\"A total of {image_counter_test} images loaded\")     \n"
   ]
  },
  {
   "cell_type": "markdown",
   "id": "a6f56726",
   "metadata": {},
   "source": [
    "## Predicting"
   ]
  },
  {
   "cell_type": "code",
   "execution_count": 25,
   "id": "fed84a46",
   "metadata": {},
   "outputs": [],
   "source": [
    "num_of_test_images = test[0].size(dim=0)\n",
    "test_predictions = []\n",
    "with torch.no_grad():\n",
    "    \n",
    "    for i in range(num_of_test_images):               \n",
    "        images,labels = test[0][i] , test[1][i]\n",
    "        input = torch.reshape(images,(1,3,28,28))\n",
    "        predictions = Model.forward(input)\n",
    "        _, classes = torch.max(predictions,1)\n",
    "        test_predictions.append(classes.item())\n",
    "        print(f\"Prediction {classes.item()}\")\n",
    "    #print(f\"True label {predictions}\")\n",
    "    "
   ]
  },
  {
   "cell_type": "markdown",
   "id": "e7de07f0",
   "metadata": {},
   "source": [
    "## Plotting"
   ]
  },
  {
   "cell_type": "code",
   "execution_count": 26,
   "id": "79d2e5e6",
   "metadata": {},
   "outputs": [
    {
     "name": "stderr",
     "output_type": "stream",
     "text": [
      "Clipping input data to the valid range for imshow with RGB data ([0..1] for floats or [0..255] for integers).\n"
     ]
    },
    {
     "data": {
      "text/plain": [
       "<matplotlib.image.AxesImage at 0x21d001bbf40>"
      ]
     },
     "execution_count": 26,
     "metadata": {},
     "output_type": "execute_result"
    },
    {
     "data": {
      "image/png": "[encoded data removed]",
      "text/plain": [
       "<Figure size 432x288 with 1 Axes>"
      ]
     },
     "metadata": {
      "needs_background": "light"
     },
     "output_type": "display_data"
    }
   ],
   "source": [
    "plt.imshow(test[0][0])"
   ]
  },
  {
   "cell_type": "markdown",
   "id": "909ea5b1",
   "metadata": {},
   "source": [
    "## Viewing"
   ]
  },
  {
   "cell_type": "code",
   "execution_count": 27,
   "id": "3b02765a",
   "metadata": {},
   "outputs": [],
   "source": [
    "del test_predictions[-1]\n",
    "\n",
    "\n",
    "list_i = []\n",
    "for i in range (240000, 280000):\n",
    "    list_i.append(i)\n",
    "    \n",
    "df_prediction = pd.DataFrame({'id': image_store,'Classification':test_predictions}) #'images':classes\n",
    "print(df_prediction)"
   ]
  },
  {
   "cell_type": "markdown",
   "id": "9ec598f7",
   "metadata": {},
   "source": [
    "## CSV (Exporting)"
   ]
  },
  {
   "cell_type": "code",
   "execution_count": 28,
   "id": "fe5f34f8",
   "metadata": {},
   "outputs": [],
   "source": [
    "df_prediction.to_csv(\"C:/Users/chris/MAI/ANN/cnnADAM2.csv\", index = False)"
   ]
  },
  {
   "cell_type": "markdown",
   "id": "d347430d",
   "metadata": {},
   "source": [
    "# Model 2.1 : Variation in CNN"
   ]
  },
  {
   "cell_type": "markdown",
   "id": "7d59545d",
   "metadata": {},
   "source": [
    "## Build Model"
   ]
  },
  {
   "cell_type": "code",
   "execution_count": 29,
   "id": "f92bbf66",
   "metadata": {},
   "outputs": [],
   "source": [
    "class Classifier(nn.Module):\n",
    "    def __init__(self):\n",
    "        super (Classifier,self).__init__()\n",
    "        \n",
    "        self.conv1 = nn.Conv2d(3, 32, kernel_size=3 , stride=1,padding=1)\n",
    "        self.relu = nn.ReLU()\n",
    "        self.pool = nn.MaxPool2d(2, 2)\n",
    "        \n",
    "        self.conv2 = nn.Conv2d(32,16 , 3)\n",
    "        self.relu = nn.ReLU()\n",
    "        self.pool2 = nn.MaxPool2d(2, 2)\n",
    "        \n",
    "        #self.droupout = nn.Dropout(p=0.25)\n",
    "        \n",
    "        self.conv3 = nn.Conv2d(16,8 , 3)\n",
    "        self.relu = nn.ReLU()\n",
    "        self.pool3 = nn.MaxPool2d(2, 2)  \n",
    "        \n",
    "        self.fc1 = nn.Linear(32, 16)\n",
    "        self.fc2 = nn.Linear(16, 10)      \n",
    "\n",
    "      \n",
    "\n",
    "    def forward(self, x):\n",
    "        x = self.conv1(x)  \n",
    "        x = F.relu(x)         \n",
    "        x = self.pool(x)\n",
    "                 \n",
    "\n",
    "        x = self.conv2(x)\n",
    "        x = F.relu(x) \n",
    "        x = self.pool2(x) \n",
    "\n",
    "        x = self.conv3(x)\n",
    "        x = F.relu(x) \n",
    "        x = self.pool3(x) \n",
    "\n",
    "        x = x.reshape(x.shape[0], -1)        \n",
    "        x = self.fc1(x)\n",
    "        x = F.relu(x)   \n",
    "        x = self.fc2(x)                                   \n",
    "        return x\n",
    "\n",
    "Model = Classifier()\n",
    "\n",
    "Loss = nn.CrossEntropyLoss()\n",
    "learning_rate = 0.00001\n",
    "optimizer = optim.Adam(Model.parameters(), learning_rate)\n",
    "#optimizer = optim.SGD(Model.parameters(), learning_rate)"
   ]
  },
  {
   "cell_type": "markdown",
   "id": "2b7034ff",
   "metadata": {},
   "source": [
    "## Training"
   ]
  },
  {
   "cell_type": "code",
   "execution_count": 30,
   "id": "34e16def",
   "metadata": {},
   "outputs": [
    {
     "name": "stdout",
     "output_type": "stream",
     "text": [
      "[INFO]: Epoch 1 of 2\n",
      "Epoch 0 Loss 0.07191930711269379\n",
      "[INFO]: Epoch 2 of 2\n",
      "Epoch 1 Loss 0.6592334508895874\n"
     ]
    }
   ],
   "source": [
    "loss_buffer = []\n",
    "epochs = 2\n",
    "\n",
    "entries_number = Images_Dataset[0].size(dim=0) # returns the number of images in Images_Dataset as an Integer\n",
    "\n",
    "for epoch in range(epochs):       \n",
    "    print(f\"[INFO]: Epoch {epoch+1} of {epochs}\")\n",
    "    for i in range (entries_number):                \n",
    "        index = random.randint(0, entries_number-1)             #(instead of schuffling) randomly generates the index because we don't our model to get images that belong to one class consequatively\n",
    "        images,labels = Images_Dataset[0][index], Images_Dataset[1][index]      \n",
    "\n",
    "        #forward pass\n",
    "        input = torch.reshape(images,(1,3,28,28))\n",
    "        #print(input.shape)\n",
    "        predictions = Model.forward(input)\n",
    "        _, classes = torch.max(predictions,1)\n",
    "\n",
    "        #if (i % 1000 == 0):            \n",
    "            #print(f\"predicted Class : {classes.item()}\")\n",
    "            #print(f\"True Class : {labels}\")\n",
    "        #if(i % 10000 == 0):\n",
    "           # print(f\"Checkpoint: Currently on image {i}\")\n",
    "\n",
    "\n",
    "        new_label = torch.zeros_like(predictions)\n",
    "        new_label[0][labels] = 1 \n",
    "\n",
    "        #Calculate loss\n",
    "        loss = Loss(predictions,new_label)\n",
    "\n",
    "        #Backward (get gradients)\n",
    "        optimizer.zero_grad()\n",
    "        loss.backward()\n",
    "\n",
    "        #SGD Update Weights\n",
    "        optimizer.step()\n",
    "\n",
    "        loss_buffer.append(loss.item())\n",
    "\n",
    "    print(f\"Epoch {epoch} Loss {loss}\")"
   ]
  },
  {
   "cell_type": "code",
   "execution_count": 44,
   "id": "4dcc736d",
   "metadata": {},
   "outputs": [
    {
     "data": {
      "text/plain": [
       "torch.Size([28, 28, 3])"
      ]
     },
     "execution_count": 44,
     "metadata": {},
     "output_type": "execute_result"
    }
   ],
   "source": [
    "Images_Dataset[0][0].shape"
   ]
  },
  {
   "cell_type": "markdown",
   "id": "3ba2bcf1",
   "metadata": {},
   "source": [
    "## Plotting Loss"
   ]
  },
  {
   "cell_type": "code",
   "execution_count": 45,
   "id": "d2bf1f9f",
   "metadata": {},
   "outputs": [
    {
     "data": {
      "text/plain": [
       "[<matplotlib.lines.Line2D at 0x259ec03e460>]"
      ]
     },
     "execution_count": 45,
     "metadata": {},
     "output_type": "execute_result"
    },
    {
     "data": {
      "image/png": "[encoded data removed]",
      "text/plain": [
       "<Figure size 432x288 with 1 Axes>"
      ]
     },
     "metadata": {
      "needs_background": "light"
     },
     "output_type": "display_data"
    }
   ],
   "source": [
    "plt.plot(loss_buffer)"
   ]
  },
  {
   "cell_type": "markdown",
   "id": "843ebb0a",
   "metadata": {},
   "source": [
    "## Loading Test Data"
   ]
  },
  {
   "cell_type": "code",
   "execution_count": 46,
   "id": "3ec2ec55",
   "metadata": {},
   "outputs": [
    {
     "name": "stdout",
     "output_type": "stream",
     "text": [
      "----------------------------\n",
      "A total of 39999 images loaded\n"
     ]
    }
   ],
   "source": [
    "loss_buffer = []\n",
    "test_dataset = \"C:/Users/chris/MAI/ANN/dataset/test\"\n",
    "\n",
    "count = 0\n",
    "test = [torch.zeros(40001,28,28,3) , torch.zeros((40001) , dtype=torch.int64)]\n",
    "image_counter_test = 0                  \n",
    "\n",
    "index_counter = 0\n",
    "for count, filename in enumerate(os.listdir(test_dataset)):\n",
    "    src =f\"{test_dataset}/{filename}\"\n",
    "    im = cv2.imread(src)                            # Load the image using Cv2\n",
    "    img = cv2.cvtColor(im, cv2.COLOR_BGR2RGB)       # Converts the image into RGB from BGR\n",
    "    image = torch.tensor(img)\n",
    "\n",
    "    index = image_counter_test + count                  # Returns how many images have been added so far (globally)\n",
    "    test[0][count] = image                # stores the image (feature)\n",
    "      \n",
    "image_counter_test = image_counter_test + count             # adds the number of images retrieved from the previous folder(class)\n",
    "  \n",
    "print(\"----------------------------\")\n",
    "print(f\"A total of {image_counter_test} images loaded\")     \n"
   ]
  },
  {
   "cell_type": "markdown",
   "id": "65780ccf",
   "metadata": {},
   "source": [
    "## Predicting"
   ]
  },
  {
   "cell_type": "code",
   "execution_count": 31,
   "id": "e9c8f1b5",
   "metadata": {},
   "outputs": [],
   "source": [
    "num_of_test_images = test[0].size(dim=0)\n",
    "test_predictions = []\n",
    "with torch.no_grad():\n",
    "    \n",
    "    for i in range(num_of_test_images):               \n",
    "        images,labels = test[0][i] , test[1][i]\n",
    "        input = torch.reshape(images,(1,3,28,28))\n",
    "        predictions = Model.forward(input)\n",
    "        _, classes = torch.max(predictions,1)\n",
    "        test_predictions.append(classes.item())\n",
    "        print(f\"Prediction {classes.item()}\")\n",
    "    #print(f\"True label {predictions}\")\n",
    "    "
   ]
  },
  {
   "cell_type": "markdown",
   "id": "4f4cda44",
   "metadata": {},
   "source": [
    "## Plotting"
   ]
  },
  {
   "cell_type": "code",
   "execution_count": 32,
   "id": "dd1ef2b9",
   "metadata": {},
   "outputs": [
    {
     "name": "stderr",
     "output_type": "stream",
     "text": [
      "Clipping input data to the valid range for imshow with RGB data ([0..1] for floats or [0..255] for integers).\n"
     ]
    },
    {
     "data": {
      "text/plain": [
       "<matplotlib.image.AxesImage at 0x21d01e97880>"
      ]
     },
     "execution_count": 32,
     "metadata": {},
     "output_type": "execute_result"
    },
    {
     "data": {
      "image/png": "[encoded data removed]",
      "text/plain": [
       "<Figure size 432x288 with 1 Axes>"
      ]
     },
     "metadata": {
      "needs_background": "light"
     },
     "output_type": "display_data"
    }
   ],
   "source": [
    "plt.imshow(test[0][0])"
   ]
  },
  {
   "cell_type": "markdown",
   "id": "6bbb1632",
   "metadata": {},
   "source": [
    "## Viewing"
   ]
  },
  {
   "cell_type": "code",
   "execution_count": 33,
   "id": "24f362a7",
   "metadata": {},
   "outputs": [],
   "source": [
    "del test_predictions[-1]\n",
    "\n",
    "\n",
    "list_i = []\n",
    "for i in range (240000, 280000):\n",
    "    list_i.append(i)\n",
    "    \n",
    "df_prediction = pd.DataFrame({'id': image_store,'Classification':test_predictions}) #'images':classes\n",
    "print(df_prediction)"
   ]
  },
  {
   "cell_type": "markdown",
   "id": "34ceac60",
   "metadata": {},
   "source": [
    "## CSV (Exporting)"
   ]
  },
  {
   "cell_type": "code",
   "execution_count": 34,
   "id": "4071a792",
   "metadata": {},
   "outputs": [],
   "source": [
    "df_prediction.to_csv(\"C:/Users/chris/MAI/ANN/CNNLENET2.csv\", index = False)"
   ]
  },
  {
   "cell_type": "markdown",
   "id": "28970c37",
   "metadata": {},
   "source": [
    "# Model 3 : CONV1D"
   ]
  },
  {
   "cell_type": "markdown",
   "id": "2818ac21",
   "metadata": {},
   "source": [
    "## Loading Dataset"
   ]
  },
  {
   "cell_type": "code",
   "execution_count": 36,
   "id": "251c2bcd",
   "metadata": {},
   "outputs": [
    {
     "name": "stdout",
     "output_type": "stream",
     "text": [
      "A total of 239990 images loaded\n"
     ]
    }
   ],
   "source": [
    "'''\n",
    "The first tensor stores the images as grayscale and the second tensor stores the labels of the images.\n",
    "'''\n",
    "Images_Dataset = [torch.zeros(240001,28,28) , torch.zeros((240001) , dtype=torch.int64)]\n",
    "\n",
    "classes = ['0','1', '2', '3', '4', '5', '6', '7', '8', '9']\n",
    "images_counter = 0                 # Counts the total number of images loaded\n",
    "for i in classes:\n",
    "    folder = f\"C:/Users/chris/MAI/ANN/dataset/train/{i}\"\n",
    "    print(f\"loading images in  : {i} folder\")\n",
    "    index_counter = 0\n",
    "    for count, filename in enumerate(os.listdir(folder)):        \n",
    "        src =f\"{folder}/{filename}\"\n",
    "        im = cv2.imread(src)                            # Load the image using Cv2\n",
    "        img = cv2.cvtColor(im, cv2.COLOR_BGR2GRAY)       # Converts the image into GRAY from BGR (to make 1 channel)\n",
    "        image = torch.tensor(img)\n",
    "\n",
    "        index = images_counter + count                  # Returns how many images have been added so far (globally)\n",
    "        Images_Dataset[0][index] = image                # stores the image (feature)\n",
    "        Images_Dataset[1][index] = classes.index(i)     # Stores the Label of the image added\n",
    "        print(f\"Image number {count} of folder {i}\")\n",
    "    images_counter = images_counter + count             # adds the number of images retrieved from the previous folder(class)\n",
    "    print(f\"class {i} have : {count} Images\")\n",
    "print(\"----------------------------\")\n",
    "print(f\"A total of {images_counter} images loaded\")"
   ]
  },
  {
   "cell_type": "markdown",
   "id": "63f162d8",
   "metadata": {},
   "source": [
    "## Plotting"
   ]
  },
  {
   "cell_type": "code",
   "execution_count": 37,
   "id": "736a3e20",
   "metadata": {},
   "outputs": [
    {
     "data": {
      "text/plain": [
       "<matplotlib.image.AxesImage at 0x21d0241f2e0>"
      ]
     },
     "execution_count": 37,
     "metadata": {},
     "output_type": "execute_result"
    },
    {
     "data": {
      "image/png": "[encoded data removed]",
      "text/plain": [
       "<Figure size 432x288 with 1 Axes>"
      ]
     },
     "metadata": {
      "needs_background": "light"
     },
     "output_type": "display_data"
    }
   ],
   "source": [
    "plt.imshow(Images_Dataset[0][78])"
   ]
  },
  {
   "cell_type": "markdown",
   "id": "bdc8dbd2",
   "metadata": {},
   "source": [
    "## Build Model"
   ]
  },
  {
   "cell_type": "code",
   "execution_count": 38,
   "id": "6a00adb9",
   "metadata": {},
   "outputs": [],
   "source": [
    "class Classifier(nn.Module):    \n",
    "    def __init__(self):\n",
    "        super(Classifier, self).__init__()\n",
    "        self.conv1 = nn.Conv1d(28, 32, kernel_size=2 , stride=1,padding=1)\n",
    "        self.pool = nn.MaxPool2d(1, 1)\n",
    "\n",
    "        self.conv2 = nn.Conv1d(32,16 ,2)\n",
    "        self.pool2 = nn.MaxPool2d(1, 1)\n",
    "\n",
    "        #self.droupout = nn.Dropout(p=0.25)\n",
    "\n",
    "        self.conv3 = nn.Conv1d(16,1 , 2)\n",
    "        self.pool3 = nn.MaxPool2d(1, 1)\n",
    "\n",
    "        self.fc1 = nn.Linear(27, 16)\n",
    "        self.fc2 = nn.Linear(16, 10)\n",
    "\n",
    "    def forward(self, x):\n",
    "\n",
    "        x = self.conv1(x)  \n",
    "        x = F.relu(x)         \n",
    "        x = self.pool(x)    \n",
    "\n",
    "        x = self.conv2(x)\n",
    "        x = F.relu(x) \n",
    "        x = self.pool2(x) \n",
    "\n",
    "        x = self.conv3(x)\n",
    "        x = F.relu(x) \n",
    "        x = self.pool3(x) \n",
    "              \n",
    "        x = self.fc1(x)\n",
    "        x = F.relu(x)   \n",
    "        x = self.fc2(x)                                   \n",
    "        return x\n",
    "'''\n",
    "The input for the model is a 1-dimensional tensor with a length of 28.\n",
    "The output is a 10-dimensional tensor representing the 10 classes of the dataset.\n",
    "'''\n",
    "Model = Classifier()\n",
    "\n",
    "Loss = nn.CrossEntropyLoss()\n",
    "learning_rate = 0.00001\n",
    "optimizer = optim.Adam(Model.parameters(), learning_rate)\n",
    "#optimizer = optim.SGD(Model.parameters(), learning_rate)"
   ]
  },
  {
   "cell_type": "markdown",
   "id": "e8c72cf5",
   "metadata": {},
   "source": [
    "## Training"
   ]
  },
  {
   "cell_type": "code",
   "execution_count": 39,
   "id": "46cdb076",
   "metadata": {},
   "outputs": [
    {
     "name": "stdout",
     "output_type": "stream",
     "text": [
      "[INFO]: Epoch 1 of 2\n",
      "Epoch 0 Loss 0.06584741920232773\n",
      "[INFO]: Epoch 2 of 2\n",
      "Epoch 1 Loss 2.4197075366973877\n"
     ]
    }
   ],
   "source": [
    "loss_buffer = []\n",
    "epochs = 2\n",
    "\n",
    "entries_number = Images_Dataset[0].size(dim=0) # returns the number of images in Images_Dataset as an Integer\n",
    "\n",
    "for epoch in range(epochs):    \n",
    "    print(f\"[INFO]: Epoch {epoch+1} of {epochs}\")\n",
    "    for i in range (entries_number):\n",
    "        index = random.randint(0, entries_number-1)             #(instead of schuffling) randomly generates the index because we don't our model to get images that belong to one class consequatively\n",
    "        images,labels = Images_Dataset[0][index], Images_Dataset[1][index]  \n",
    "\n",
    "        #forward pass\n",
    "        input = torch.reshape(images,(1,28,28))\n",
    "        predictions = Model.forward(input)\n",
    "        _, classes = torch.max(predictions[0],1)\n",
    "\n",
    "        if (i % 1000 == 0):            \n",
    "            print(f\"predicted Class : {classes.item()}\")\n",
    "            print(f\"True Class : {labels}\")\n",
    "        if(i % 10000 == 0):\n",
    "            print(f\"Checkpoint: Currently on image {i}\")\n",
    "\n",
    "        new_label = torch.zeros_like(predictions[0])\n",
    "        new_label[0][labels] = 1 \n",
    "\n",
    "        #Calculate loss\n",
    "        loss = Loss(predictions[0],new_label)\n",
    "\n",
    "        #Backward (get gradients)\n",
    "        optimizer.zero_grad()\n",
    "        loss.backward()\n",
    "\n",
    "        #SGD Update Weights\n",
    "        optimizer.step()\n",
    "\n",
    "        loss_buffer.append(loss.item())\n",
    "\n",
    "    print(f\"Epoch {epoch} Loss {loss}\")"
   ]
  },
  {
   "cell_type": "code",
   "execution_count": 40,
   "id": "2ddf2efa",
   "metadata": {},
   "outputs": [
    {
     "data": {
      "text/plain": [
       "torch.Size([28, 28])"
      ]
     },
     "execution_count": 40,
     "metadata": {},
     "output_type": "execute_result"
    }
   ],
   "source": [
    "Images_Dataset[0][0].shape"
   ]
  },
  {
   "cell_type": "markdown",
   "id": "81858d0a",
   "metadata": {},
   "source": [
    "## Plotting Loss"
   ]
  },
  {
   "cell_type": "code",
   "execution_count": 41,
   "id": "c404c7e2",
   "metadata": {},
   "outputs": [
    {
     "data": {
      "text/plain": [
       "[<matplotlib.lines.Line2D at 0x21d02300d00>]"
      ]
     },
     "execution_count": 41,
     "metadata": {},
     "output_type": "execute_result"
    },
    {
     "data": {
      "image/png": "[encoded data removed]",
      "text/plain": [
       "<Figure size 432x288 with 1 Axes>"
      ]
     },
     "metadata": {
      "needs_background": "light"
     },
     "output_type": "display_data"
    }
   ],
   "source": [
    "plt.plot(loss_buffer)"
   ]
  },
  {
   "cell_type": "markdown",
   "id": "ef95166a",
   "metadata": {},
   "source": [
    "## Loading Test Data"
   ]
  },
  {
   "cell_type": "code",
   "execution_count": 43,
   "id": "134707c5",
   "metadata": {},
   "outputs": [],
   "source": [
    "import os\n",
    "from os import listdir\n",
    " \n",
    "# get the path/directory\n",
    "test_dataset = \"C:/Users/chris/MAI/ANN/dataset/test\"\n",
    "count = 0\n",
    "image_store = [] \n",
    "for images in os.listdir(test_dataset):\n",
    "    \n",
    "    \n",
    "    # check if the image ends with png\n",
    "    if (images.endswith(\".png\")):\n",
    "        splitter = images.split(\".\", 1)\n",
    "        splitted = splitter[0]\n",
    "        image_store.append(splitted)\n",
    " \n",
    "        print(images)\n",
    "        count += 1\n",
    "print('File count:', count)"
   ]
  },
  {
   "cell_type": "code",
   "execution_count": 44,
   "id": "614f35e7",
   "metadata": {},
   "outputs": [
    {
     "name": "stdout",
     "output_type": "stream",
     "text": [
      "A total of 39999 images loaded\n"
     ]
    }
   ],
   "source": [
    "loss_buffer = []\n",
    "test_dataset = \"C:/Users/chris/MAI/ANN/dataset/test\"\n",
    "\n",
    "count = 0\n",
    "test = [torch.zeros(40001,28,28) , torch.zeros((40001) , dtype=torch.int64)]\n",
    "image_counter_test = 0                  \n",
    "\n",
    "index_counter = 0\n",
    "for count, filename in enumerate(os.listdir(test_dataset)):\n",
    "    src =f\"{test_dataset}/{filename}\"\n",
    "    im = cv2.imread(src)                            # Load the image using Cv2\n",
    "    img = cv2.cvtColor(im, cv2.COLOR_BGR2GRAY)       # Converts the image into RGB from BGR\n",
    "    image = torch.tensor(img)\n",
    "\n",
    "    index = image_counter_test + count                  # Returns how many images have been added so far (globally)\n",
    "    test[0][count] = image                # stores the image (feature)\n",
    "      \n",
    "image_counter_test = image_counter_test + count             # adds the number of images retrieved from the previous folder(class)\n",
    "  \n",
    "print(\"----------------------------\")\n",
    "print(f\"A total of {image_counter_test} images loaded\")     \n"
   ]
  },
  {
   "cell_type": "markdown",
   "id": "431aed32",
   "metadata": {},
   "source": [
    "## Predicting"
   ]
  },
  {
   "cell_type": "code",
   "execution_count": 45,
   "id": "1a6573a3",
   "metadata": {},
   "outputs": [],
   "source": [
    "num_of_test_images = test[0].size(dim=0)\n",
    "test_predictions = []\n",
    "with torch.no_grad():   \n",
    "    \n",
    "    for i in range(num_of_test_images):\n",
    "        images,labels = test[0][i] , test[1][i]\n",
    "        input = torch.reshape(images,(1,28,28))\n",
    "\n",
    "        predictions = Model.forward(input)\n",
    "        _, classes = torch.max(predictions[0],1)\n",
    "        test_predictions.append(classes.item())\n",
    "        print(f\"Prediction {classes.item()}\")    "
   ]
  },
  {
   "cell_type": "markdown",
   "id": "a34271da",
   "metadata": {},
   "source": [
    "## Plotting"
   ]
  },
  {
   "cell_type": "code",
   "execution_count": 46,
   "id": "a16e8d35",
   "metadata": {},
   "outputs": [
    {
     "data": {
      "text/plain": [
       "<matplotlib.image.AxesImage at 0x21d5ab51df0>"
      ]
     },
     "execution_count": 46,
     "metadata": {},
     "output_type": "execute_result"
    },
    {
     "data": {
      "image/png": "[encoded data removed]",
      "text/plain": [
       "<Figure size 432x288 with 1 Axes>"
      ]
     },
     "metadata": {
      "needs_background": "light"
     },
     "output_type": "display_data"
    }
   ],
   "source": [
    "plt.imshow(test[0][0])"
   ]
  },
  {
   "cell_type": "markdown",
   "id": "a2144de2",
   "metadata": {},
   "source": [
    "## Viewing"
   ]
  },
  {
   "cell_type": "code",
   "execution_count": 47,
   "id": "159d87a1",
   "metadata": {},
   "outputs": [],
   "source": [
    "del test_predictions[-1]\n",
    "\n",
    "\n",
    "list_i = []\n",
    "for i in range (240000, 280000):\n",
    "    list_i.append(i)\n",
    "    \n",
    "df_prediction = pd.DataFrame({'id': image_store,'Classification':test_predictions}) #'images':classes\n",
    "print(df_prediction)"
   ]
  },
  {
   "cell_type": "markdown",
   "id": "38f131ff",
   "metadata": {},
   "source": [
    "## CSV (Exporting)"
   ]
  },
  {
   "cell_type": "code",
   "execution_count": 49,
   "id": "3db9a0af",
   "metadata": {},
   "outputs": [],
   "source": [
    "df_prediction.to_csv(\"C:/Users/chris/MAI/ANN/con1D2.csv\", index = False)"
   ]
  },
  {
   "cell_type": "markdown",
   "id": "05a4fd61",
   "metadata": {},
   "source": [
    "# Report"
   ]
  },
  {
   "cell_type": "markdown",
   "id": "75683946",
   "metadata": {},
   "source": [
    "### Model Summary"
   ]
  },
  {
   "attachments": {
    "Model%20Comparison.png": {
     "image/png": "[encoded data removed]"
    }
   },
   "cell_type": "markdown",
   "id": "592531d7",
   "metadata": {},
   "source": [
    "![Model%20Comparison.png](attachment:Model%20Comparison.png)"
   ]
  },
  {
   "cell_type": "markdown",
   "id": "818c52e7",
   "metadata": {},
   "source": [
    "### Accuracy Chart"
   ]
  },
  {
   "attachments": {
    "Kaggle%20Scores.png": {
     "image/png": "[encoded data removed]"
    }
   },
   "cell_type": "markdown",
   "id": "3a375702",
   "metadata": {},
   "source": [
    "![Kaggle%20Scores.png](attachment:Kaggle%20Scores.png)"
   ]
  }
 ],
 "metadata": {
  "kernelspec": {
   "display_name": "Python 3 (ipykernel)",
   "language": "python",
   "name": "python3"
  },
  "language_info": {
   "codemirror_mode": {
    "name": "ipython",
    "version": 3
   },
   "file_extension": ".py",
   "mimetype": "text/x-python",
   "name": "python",
   "nbconvert_exporter": "python",
   "pygments_lexer": "ipython3",
   "version": "3.9.12"
  }
 },
 "nbformat": 4,
 "nbformat_minor": 5
}
